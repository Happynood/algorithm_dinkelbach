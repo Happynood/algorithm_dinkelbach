{
 "cells": [
  {
   "cell_type": "code",
   "execution_count": 2,
   "metadata": {},
   "outputs": [],
   "source": [
    "import pandas as pd\n",
    "import copy\n",
    "import numpy as np"
   ]
  },
  {
   "cell_type": "code",
   "execution_count": 3,
   "metadata": {},
   "outputs": [],
   "source": [
    "def iter_lex(a):\n",
    "  max_x = 0\n",
    "  max_y = 0\n",
    "  while a[4][max_x]>=0:\n",
    "    max_x+=1\n",
    "    if max_x>8: \n",
    "      print('Оптимальное решение найдено')\n",
    "      return a\n",
    "  for x in range(max_x,9):\n",
    "    if abs(a[4][x])>abs(a[4][max_x]) and a[4][x]<0 and a[4][x]!=0 and  a[1][x]>=0 and  a[2][x]>=0 and  a[3][x]>=0 : \n",
    "      max_x = x\n",
    "  while a[max_y][max_x]<=0:\n",
    "    max_y+=1\n",
    "  for y in range(5):\n",
    "    if a[y][max_x] <=0: continue\n",
    "    if a[y][max_x]>0 and abs(a[y][0]/a[y][max_x])<abs(a[max_y][0]/a[max_y][max_x]): max_y = y\n",
    "    if a[y][max_x]>0 and abs(a[y][0]/a[y][max_x])==abs(a[max_y][0]/a[max_y][max_x]):\n",
    "      for i in range(1,5):\n",
    "          if a[y][max_x]>0 and abs(a[y][i]/a[y][max_x])==abs(a[max_y][i]/a[max_y][max_x]): pass\n",
    "          if a[y][max_x]>0 and abs(a[y][i]/a[y][max_x])<abs(a[max_y][i]/a[max_y][max_x]): \n",
    "            max_y = y\n",
    "            break\n",
    "  b = copy.deepcopy(a)\n",
    "  for i in range(5):\n",
    "    for j in range(9):\n",
    "      if i==max_y:\n",
    "        b[i][j]= a[i][j]/a[max_y][max_x]\n",
    "      if i!=max_y: b[i][j]=a[i][j]- a[i][max_x]*a[max_y][j]/a[max_y][max_x]\n",
    "  return b"
   ]
  },
  {
   "cell_type": "code",
   "execution_count": 5,
   "metadata": {},
   "outputs": [],
   "source": [
    "def dinkelbach(A, b, x0=None, tol=1e-6, max_iter=1000):\n",
    "    if x0 is None:\n",
    "        x0 = np.zeros(A.shape[1])\n",
    "    x = x0.copy()\n",
    "    f_old = None\n",
    "    iter_count = 0\n",
    "    while True: \n",
    "        f_new = np.dot(b, np.maximum(x, 0)) ** 2 / np.sum(np.maximum(x, 0))\n",
    "        if f_new - f_old < tol:\n",
    "            break\n",
    "        x = (x - f_new * A[:, :x.size].T) / (1 - f_new)\n",
    "        f_old = f_new\n",
    "        iter_count += 1\n",
    "        if iter_count == max_iter:\n",
    "            raise RuntimeError(\"Maximum number of iterations reached.\")\n",
    "\n",
    "    return x, f_new"
   ]
  }
 ],
 "metadata": {
  "kernelspec": {
   "display_name": "Python 3",
   "language": "python",
   "name": "python3"
  },
  "language_info": {
   "codemirror_mode": {
    "name": "ipython",
    "version": 3
   },
   "file_extension": ".py",
   "mimetype": "text/x-python",
   "name": "python",
   "nbconvert_exporter": "python",
   "pygments_lexer": "ipython3",
   "version": "3.12.1"
  }
 },
 "nbformat": 4,
 "nbformat_minor": 2
}
